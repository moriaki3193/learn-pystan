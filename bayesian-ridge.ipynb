{
 "cells": [
  {
   "cell_type": "markdown",
   "metadata": {},
   "source": [
    "### Bayesian Ridge Regression\n",
    "#### Ridge Regression\n",
    "$x = (1, x_{1}, x_{2}, ... , x_{d})$なる事例を$n$個束ねた行列$X$を考える.\n",
    "重みベクトル$w = (w_{0}, w_{1}, w_{2}, ..., w_{d})^{T}$を利用して...\n",
    "$$\n",
    "argmin_{w} \\ \\{ | y - (Xw) |^{2} + \\lambda || w || \\}\n",
    "$$\n",
    "を満たす最適な$w$ベクトルを求める回帰分析をRidge回帰と呼ぶ."
   ]
  },
  {
   "cell_type": "code",
   "execution_count": 2,
   "metadata": {},
   "outputs": [
    {
     "data": {
      "text/plain": [
       "BayesianRidge(alpha_1=1e-06, alpha_2=1e-06, compute_score=False, copy_X=True,\n",
       "       fit_intercept=True, lambda_1=1e-06, lambda_2=1e-06, n_iter=300,\n",
       "       normalize=False, tol=0.001, verbose=False)"
      ]
     },
     "execution_count": 2,
     "metadata": {},
     "output_type": "execute_result"
    }
   ],
   "source": [
    "from sklearn import linear_model\n",
    "\n",
    "X = [[0., 0.], [1., 1.], [2., 2.], [3.,3.]]\n",
    "y = [0., 1., 2., 3.]\n",
    "reg = linear_model.BayesianRidge()\n",
    "reg.fit(X, y)"
   ]
  },
  {
   "cell_type": "markdown",
   "metadata": {},
   "source": [
    "トレーニングデータについて学習したあと, モデルは新しい値について予測を行うことができる.\n",
    "得られた重みは`OLS`のそれらに比較して少しだけ違うことがわかる.\n",
    "曰く, Bayesian Ridge Regressionのほうがロバストらしい."
   ]
  },
  {
   "cell_type": "code",
   "execution_count": 3,
   "metadata": {},
   "outputs": [
    {
     "data": {
      "text/plain": [
       "array([ 0.50000013])"
      ]
     },
     "execution_count": 3,
     "metadata": {},
     "output_type": "execute_result"
    }
   ],
   "source": [
    "reg.predict([[1, 0]])"
   ]
  },
  {
   "cell_type": "code",
   "execution_count": 4,
   "metadata": {},
   "outputs": [
    {
     "data": {
      "text/plain": [
       "array([ 0.49999993,  0.49999993])"
      ]
     },
     "execution_count": 4,
     "metadata": {},
     "output_type": "execute_result"
    }
   ],
   "source": [
    "reg.coef_"
   ]
  },
  {
   "cell_type": "code",
   "execution_count": 8,
   "metadata": {},
   "outputs": [
    {
     "name": "stdout",
     "output_type": "stream",
     "text": [
      "                            OLS Regression Results                            \n",
      "==============================================================================\n",
      "Dep. Variable:                      y   R-squared:                       1.000\n",
      "Model:                            OLS   Adj. R-squared:                  1.000\n",
      "Method:                 Least Squares   F-statistic:                 2.366e+31\n",
      "Date:                Mon, 21 Aug 2017   Prob (F-statistic):           1.92e-47\n",
      "Time:                        21:06:30   Log-Likelihood:                 134.10\n",
      "No. Observations:                   4   AIC:                            -266.2\n",
      "Df Residuals:                       3   BIC:                            -266.8\n",
      "Df Model:                           1                                         \n",
      "Covariance Type:            nonrobust                                         \n",
      "==============================================================================\n",
      "                 coef    std err          t      P>|t|      [0.025      0.975]\n",
      "------------------------------------------------------------------------------\n",
      "x1             0.5000   1.03e-16   4.86e+15      0.000       0.500       0.500\n",
      "x2             0.5000   1.03e-16   4.86e+15      0.000       0.500       0.500\n",
      "==============================================================================\n",
      "Omnibus:                          nan   Durbin-Watson:                   0.222\n",
      "Prob(Omnibus):                    nan   Jarque-Bera (JB):                0.476\n",
      "Skew:                           0.493   Prob(JB):                        0.788\n",
      "Kurtosis:                       1.628   Cond. No.                     1.35e+16\n",
      "==============================================================================\n",
      "\n",
      "Warnings:\n",
      "[1] Standard Errors assume that the covariance matrix of the errors is correctly specified.\n",
      "[2] The smallest eigenvalue is 1.53e-31. This might indicate that there are\n",
      "strong multicollinearity problems or that the design matrix is singular.\n"
     ]
    },
    {
     "name": "stderr",
     "output_type": "stream",
     "text": [
      "/anaconda/lib/python3.6/site-packages/statsmodels/stats/stattools.py:72: ValueWarning: omni_normtest is not valid with less than 8 observations; 4 samples were given.\n",
      "  \"samples were given.\" % int(n), ValueWarning)\n"
     ]
    },
    {
     "data": {
      "text/plain": [
       "array([ 0.5])"
      ]
     },
     "execution_count": 8,
     "metadata": {},
     "output_type": "execute_result"
    }
   ],
   "source": [
    "import statsmodels.api as sm\n",
    "\n",
    "res = sm.OLS(y, X).fit()\n",
    "print(res.summary())\n",
    "res.predict([[1., 0.]])"
   ]
  },
  {
   "cell_type": "markdown",
   "metadata": {},
   "source": [
    "`OLS`では, 推定結果が$w = (0.5, 0.5)$であった一方で, `BayesianRidgeRegression`では推定結果が$w = (0.4993, 0.4993)$とわずかに異なることがわかる.\n",
    "\n",
    "$w$に$L2$正則化項によるペナルティが課せられているため, 重みが小さくなっていることが確認できる."
   ]
  },
  {
   "cell_type": "code",
   "execution_count": null,
   "metadata": {
    "collapsed": true
   },
   "outputs": [],
   "source": []
  }
 ],
 "metadata": {
  "kernelspec": {
   "display_name": "Python 3",
   "language": "python",
   "name": "python3"
  },
  "language_info": {
   "codemirror_mode": {
    "name": "ipython",
    "version": 3
   },
   "file_extension": ".py",
   "mimetype": "text/x-python",
   "name": "python",
   "nbconvert_exporter": "python",
   "pygments_lexer": "ipython3",
   "version": "3.6.1"
  }
 },
 "nbformat": 4,
 "nbformat_minor": 2
}
